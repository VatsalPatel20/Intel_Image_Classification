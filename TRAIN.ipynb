{
 "cells": [
  {
   "cell_type": "code",
   "execution_count": 1,
   "id": "a2ef6f23",
   "metadata": {},
   "outputs": [],
   "source": [
    "import numpy as np\n",
    "import torch\n",
    "from torch import nn\n",
    "from torchvision import transforms\n",
    "from torch.utils.data import DataLoader\n",
    "import cv2\n",
    "import random\n",
    "import os"
   ]
  },
  {
   "cell_type": "code",
   "execution_count": 2,
   "id": "32b31c7f",
   "metadata": {},
   "outputs": [],
   "source": [
    "def data_preprocessing(path,categories):\n",
    "    train_data=[]\n",
    "    trans=transforms.Compose([transforms.ToTensor()])\n",
    "    for category in categories:\n",
    "        index=categories.index(category)\n",
    "        train_path=os.path.join(path,category)\n",
    "        for img in os.listdir(train_path):\n",
    "            img_to_array=cv2.imread(os.path.join(train_path,img),cv2.IMREAD_GRAYSCALE)\n",
    "            resized=cv2.resize(img_to_array,(150,150))\n",
    "            train_data.append([trans(resized),index])\n",
    "    random.shuffle(train_data)\n",
    "    return train_data"
   ]
  },
  {
   "cell_type": "code",
   "execution_count": 3,
   "id": "4f918c95",
   "metadata": {},
   "outputs": [],
   "source": [
    "def data_loader(data,batch_size):\n",
    "    BATCH=DataLoader(data,batch_size=batch_size)\n",
    "    return BATCH"
   ]
  },
  {
   "cell_type": "code",
   "execution_count": 4,
   "id": "9afcf096",
   "metadata": {},
   "outputs": [],
   "source": [
    "class FeedForward(nn.Module):\n",
    "    def __init__(self):\n",
    "        super().__init__()\n",
    "        self.conv1=nn.Sequential(nn.Conv2d(in_channels=1,out_channels=32,kernel_size=2,stride=1,padding=2),\n",
    "                                nn.ReLU(),\n",
    "                                nn.MaxPool2d(kernel_size=2))\n",
    "        self.conv2=nn.Sequential(nn.Conv2d(in_channels=32,out_channels=64,kernel_size=2,stride=1,padding=2),\n",
    "                                nn.ReLU(),\n",
    "                                nn.MaxPool2d(kernel_size=2))\n",
    "        self.conv3=nn.Sequential(nn.Conv2d(in_channels=64,out_channels=128,kernel_size=2,stride=1,padding=2),\n",
    "                                nn.ReLU(),\n",
    "                                nn.MaxPool2d(kernel_size=2))\n",
    "        self.flatten=nn.Flatten()\n",
    "        self.linear1=nn.Linear(56448,128)\n",
    "        self.relu1=nn.ReLU()\n",
    "        self.linear2=nn.Linear(128,6)\n",
    "        self.softmax=nn.Softmax(dim=1)\n",
    "    def forward(self,input_data):\n",
    "        x=self.conv1(input_data)\n",
    "        x=self.conv2(x)\n",
    "        x=self.conv3(x)\n",
    "        x=self.flatten(x)\n",
    "        x=self.linear1(x)\n",
    "        x=self.relu1(x)\n",
    "        x=self.linear2(x)\n",
    "        prediction=self.softmax(x)\n",
    "        return prediction"
   ]
  },
  {
   "cell_type": "code",
   "execution_count": 5,
   "id": "97afdb8d",
   "metadata": {},
   "outputs": [],
   "source": [
    "def train_one_epoch(model,data,loss_fn,optizer,device):\n",
    "    for input_,target in data:\n",
    "        input_,target=input_.to(device),target.to(device)\n",
    "        prediction=model(input_)\n",
    "        loss=loss_fn(prediction,target)\n",
    "        optimizer.zero_grad()\n",
    "        loss.backward()\n",
    "        optimizer.step()\n",
    "    print(loss.item())\n",
    "def train(model,data,loss_fn,optimizer,device,epoch):\n",
    "    for i in range(epoch):\n",
    "        train_one_epoch(model,data,loss_fn,optimizer,device)"
   ]
  },
  {
   "cell_type": "code",
   "execution_count": 6,
   "id": "463f369c",
   "metadata": {},
   "outputs": [],
   "source": [
    "if torch.cuda.is_available():\n",
    "    device='cuda'\n",
    "else:\n",
    "    device='cpu'"
   ]
  },
  {
   "cell_type": "code",
   "execution_count": 7,
   "id": "bf2a4d10",
   "metadata": {},
   "outputs": [],
   "source": [
    "feed_forward=FeedForward().to(device)"
   ]
  },
  {
   "cell_type": "code",
   "execution_count": 8,
   "id": "375ead66",
   "metadata": {},
   "outputs": [],
   "source": [
    "loss_fn=nn.CrossEntropyLoss()\n",
    "optimizer=torch.optim.Adam(feed_forward.parameters(),lr=0.001)"
   ]
  },
  {
   "cell_type": "code",
   "execution_count": 9,
   "id": "7fc445c1",
   "metadata": {},
   "outputs": [],
   "source": [
    "path=\"/Users/vatsa/OneDrive/Documents/IntelClassification/seg_train/seg_train/\"\n",
    "categories=['mountain','buildings','street','sea','glacier','forest']"
   ]
  },
  {
   "cell_type": "code",
   "execution_count": 10,
   "id": "0465dc4f",
   "metadata": {},
   "outputs": [],
   "source": [
    "Train_DATA=data_preprocessing(path,categories)"
   ]
  },
  {
   "cell_type": "code",
   "execution_count": 11,
   "id": "7f4f64a7",
   "metadata": {},
   "outputs": [],
   "source": [
    "BATCH=data_loader(Train_DATA,100)"
   ]
  },
  {
   "cell_type": "code",
   "execution_count": null,
   "id": "2a9104ff",
   "metadata": {},
   "outputs": [],
   "source": [
    "train(feed_forward,BATCH,loss_fn,optimizer,device,5)"
   ]
  },
  {
   "cell_type": "code",
   "execution_count": null,
   "id": "c8f5e028",
   "metadata": {},
   "outputs": [],
   "source": []
  }
 ],
 "metadata": {
  "kernelspec": {
   "display_name": "Python 3 (ipykernel)",
   "language": "python",
   "name": "python3"
  },
  "language_info": {
   "codemirror_mode": {
    "name": "ipython",
    "version": 3
   },
   "file_extension": ".py",
   "mimetype": "text/x-python",
   "name": "python",
   "nbconvert_exporter": "python",
   "pygments_lexer": "ipython3",
   "version": "3.9.12"
  }
 },
 "nbformat": 4,
 "nbformat_minor": 5
}
